{
 "cells": [
  {
   "cell_type": "code",
   "execution_count": 388,
   "metadata": {
    "collapsed": true
   },
   "outputs": [],
   "source": [
    "import pandas as pd\n",
    "pd.options.display.max_rows = 6\n",
    "%matplotlib inline\n",
    "import numpy\n",
    "import pylab"
   ]
  },
  {
   "cell_type": "markdown",
   "metadata": {},
   "source": [
    "Question 1"
   ]
  },
  {
   "cell_type": "code",
   "execution_count": 387,
   "metadata": {
    "collapsed": false
   },
   "outputs": [],
   "source": [
    "crimes = pd.read_csv('crimes2015.csv', parse_dates=['Date'])"
   ]
  },
  {
   "cell_type": "code",
   "execution_count": 13,
   "metadata": {
    "collapsed": false
   },
   "outputs": [],
   "source": [
    "se=pd.read_csv('se.csv')"
   ]
  },
  {
   "cell_type": "markdown",
   "metadata": {},
   "source": [
    "(a) Calculate the number of crimes in each Community Area in 2015."
   ]
  },
  {
   "cell_type": "code",
   "execution_count": 41,
   "metadata": {
    "collapsed": false
   },
   "outputs": [
    {
     "data": {
      "text/plain": [
       "Community Area\n",
       "1     3526\n",
       "2     3063\n",
       "3     3592\n",
       "      ... \n",
       "75    2055\n",
       "76    1623\n",
       "77    2213\n",
       "Name: ID, dtype: int64"
      ]
     },
     "execution_count": 41,
     "metadata": {},
     "output_type": "execute_result"
    }
   ],
   "source": [
    "crimes = crimes[crimes['Community Area'] != 0] #Drop the 2 entries with 0 value as Community Area, presumbly by mistake \n",
    "crimes_by_community = crimes.groupby('Community Area')\n",
    "community_crime_count = crimes_by_community['ID'].agg('count')\n",
    "community_crime_count"
   ]
  },
  {
   "cell_type": "markdown",
   "metadata": {},
   "source": [
    "(b) Sort the Community Areas by 2015 crime count. Which Community Area (by name) has the highest crime count. The lowest?"
   ]
  },
  {
   "cell_type": "code",
   "execution_count": 198,
   "metadata": {
    "collapsed": false
   },
   "outputs": [
    {
     "data": {
      "text/plain": [
       "Community Area\n",
       "25    17055\n",
       "8      8946\n",
       "43     8936\n",
       "      ...  \n",
       "12      445\n",
       "47      380\n",
       "9       254\n",
       "Name: ID, dtype: int64"
      ]
     },
     "execution_count": 198,
     "metadata": {},
     "output_type": "execute_result"
    }
   ],
   "source": [
    "community_crime_count.sort_values(ascending=False)"
   ]
  },
  {
   "cell_type": "code",
   "execution_count": 43,
   "metadata": {
    "collapsed": false
   },
   "outputs": [
    {
     "data": {
      "text/plain": [
       "24    Austin\n",
       "Name: COMMUNITY AREA NAME, dtype: object"
      ]
     },
     "execution_count": 43,
     "metadata": {},
     "output_type": "execute_result"
    }
   ],
   "source": [
    "community_crime_max=se[se['Community Area Number']==25]['COMMUNITY AREA NAME']\n",
    "community_crime_max"
   ]
  },
  {
   "cell_type": "code",
   "execution_count": 44,
   "metadata": {
    "collapsed": false
   },
   "outputs": [
    {
     "data": {
      "text/plain": [
       "8    Edison Park\n",
       "Name: COMMUNITY AREA NAME, dtype: object"
      ]
     },
     "execution_count": 44,
     "metadata": {},
     "output_type": "execute_result"
    }
   ],
   "source": [
    "community_crime_min=se[se['Community Area Number']==9]['COMMUNITY AREA NAME']\n",
    "community_crime_min"
   ]
  },
  {
   "cell_type": "markdown",
   "metadata": {},
   "source": [
    "(c) Create a table whose rows are days in the year and columns are the 77 Community Area crime counts. Select a few Communities that you are interested and plot time series."
   ]
  },
  {
   "cell_type": "code",
   "execution_count": 45,
   "metadata": {
    "collapsed": false
   },
   "outputs": [
    {
     "data": {
      "text/plain": [
       "Community Area  Day       \n",
       "1               2015-01-01    13\n",
       "                2015-01-02     5\n",
       "                2015-01-03     7\n",
       "                              ..\n",
       "77              2015-12-29     4\n",
       "                2015-12-30     5\n",
       "                2015-12-31     4\n",
       "Name: ID, dtype: int64"
      ]
     },
     "execution_count": 45,
     "metadata": {},
     "output_type": "execute_result"
    }
   ],
   "source": [
    "def to_day(timestamp):\n",
    "    return timestamp.replace(minute=0,hour=0, second=0)\n",
    "crimes['Day'] = crimes['Date'].apply(to_day)\n",
    "crimes_by_community_day = crimes.groupby(['Community Area', 'Day'])\n",
    "crimes_by_community_day_count = crimes_by_community_day['ID'].agg('count')\n",
    "crimes_by_community_day_count"
   ]
  },
  {
   "cell_type": "code",
   "execution_count": 52,
   "metadata": {
    "collapsed": false
   },
   "outputs": [
    {
     "data": {
      "text/plain": [
       "<matplotlib.axes._subplots.AxesSubplot at 0x10778c10>"
      ]
     },
     "execution_count": 52,
     "metadata": {},
     "output_type": "execute_result"
    },
    {
     "data": {
      "image/png": "[encoded data removed]",
      "text/plain": [
       "<matplotlib.figure.Figure at 0x10c0ae70>"
      ]
     },
     "metadata": {},
     "output_type": "display_data"
    }
   ],
   "source": [
    "community_day_timeseries = crimes_by_community_day_count.unstack('Community Area')\n",
    "community_day_timeseries.fillna(0, inplace=True)\n",
    "community_day_timeseries[[1,25,9]].plot()"
   ]
  },
  {
   "cell_type": "markdown",
   "metadata": {},
   "source": [
    "(d) By joining with the socioeconomic data, create a scatter plot of crime counts against per capita income. Summarize the relationship in words."
   ]
  },
  {
   "cell_type": "code",
   "execution_count": 57,
   "metadata": {
    "collapsed": false
   },
   "outputs": [
    {
     "data": {
      "text/html": [
       "<div>\n",
       "<table border=\"1\" class=\"dataframe\">\n",
       "  <thead>\n",
       "    <tr style=\"text-align: right;\">\n",
       "      <th></th>\n",
       "      <th>Community Area Number</th>\n",
       "      <th>COMMUNITY AREA NAME</th>\n",
       "      <th>PERCENT OF HOUSING CROWDED</th>\n",
       "      <th>PERCENT HOUSEHOLDS BELOW POVERTY</th>\n",
       "      <th>PERCENT AGED 16+ UNEMPLOYED</th>\n",
       "      <th>PERCENT AGED 25+ WITHOUT HIGH SCHOOL DIPLOMA</th>\n",
       "      <th>PERCENT AGED UNDER 18 OR OVER 64</th>\n",
       "      <th>PER CAPITA INCOME</th>\n",
       "      <th>HARDSHIP INDEX</th>\n",
       "      <th>Crime Count</th>\n",
       "    </tr>\n",
       "  </thead>\n",
       "  <tbody>\n",
       "    <tr>\n",
       "      <th>0</th>\n",
       "      <td>1</td>\n",
       "      <td>Rogers Park</td>\n",
       "      <td>7.7</td>\n",
       "      <td>23.6</td>\n",
       "      <td>8.7</td>\n",
       "      <td>18.2</td>\n",
       "      <td>27.5</td>\n",
       "      <td>23939</td>\n",
       "      <td>39</td>\n",
       "      <td>3526</td>\n",
       "    </tr>\n",
       "    <tr>\n",
       "      <th>1</th>\n",
       "      <td>2</td>\n",
       "      <td>West Ridge</td>\n",
       "      <td>7.8</td>\n",
       "      <td>17.2</td>\n",
       "      <td>8.8</td>\n",
       "      <td>20.8</td>\n",
       "      <td>38.5</td>\n",
       "      <td>23040</td>\n",
       "      <td>46</td>\n",
       "      <td>3063</td>\n",
       "    </tr>\n",
       "    <tr>\n",
       "      <th>2</th>\n",
       "      <td>3</td>\n",
       "      <td>Uptown</td>\n",
       "      <td>3.8</td>\n",
       "      <td>24.0</td>\n",
       "      <td>8.9</td>\n",
       "      <td>11.8</td>\n",
       "      <td>22.2</td>\n",
       "      <td>35787</td>\n",
       "      <td>20</td>\n",
       "      <td>3592</td>\n",
       "    </tr>\n",
       "    <tr>\n",
       "      <th>...</th>\n",
       "      <td>...</td>\n",
       "      <td>...</td>\n",
       "      <td>...</td>\n",
       "      <td>...</td>\n",
       "      <td>...</td>\n",
       "      <td>...</td>\n",
       "      <td>...</td>\n",
       "      <td>...</td>\n",
       "      <td>...</td>\n",
       "      <td>...</td>\n",
       "    </tr>\n",
       "    <tr>\n",
       "      <th>74</th>\n",
       "      <td>75</td>\n",
       "      <td>Morgan Park</td>\n",
       "      <td>0.8</td>\n",
       "      <td>13.2</td>\n",
       "      <td>15.0</td>\n",
       "      <td>10.8</td>\n",
       "      <td>40.3</td>\n",
       "      <td>27149</td>\n",
       "      <td>30</td>\n",
       "      <td>2055</td>\n",
       "    </tr>\n",
       "    <tr>\n",
       "      <th>75</th>\n",
       "      <td>76</td>\n",
       "      <td>O'Hare</td>\n",
       "      <td>3.6</td>\n",
       "      <td>15.4</td>\n",
       "      <td>7.1</td>\n",
       "      <td>10.9</td>\n",
       "      <td>30.3</td>\n",
       "      <td>25828</td>\n",
       "      <td>24</td>\n",
       "      <td>1623</td>\n",
       "    </tr>\n",
       "    <tr>\n",
       "      <th>76</th>\n",
       "      <td>77</td>\n",
       "      <td>Edgewater</td>\n",
       "      <td>4.1</td>\n",
       "      <td>18.2</td>\n",
       "      <td>9.2</td>\n",
       "      <td>9.7</td>\n",
       "      <td>23.8</td>\n",
       "      <td>33385</td>\n",
       "      <td>19</td>\n",
       "      <td>2213</td>\n",
       "    </tr>\n",
       "  </tbody>\n",
       "</table>\n",
       "<p>77 rows × 10 columns</p>\n",
       "</div>"
      ],
      "text/plain": [
       "    Community Area Number COMMUNITY AREA NAME  PERCENT OF HOUSING CROWDED  \\\n",
       "0                       1         Rogers Park                         7.7   \n",
       "1                       2          West Ridge                         7.8   \n",
       "2                       3              Uptown                         3.8   \n",
       "..                    ...                 ...                         ...   \n",
       "74                     75         Morgan Park                         0.8   \n",
       "75                     76              O'Hare                         3.6   \n",
       "76                     77           Edgewater                         4.1   \n",
       "\n",
       "    PERCENT HOUSEHOLDS BELOW POVERTY  PERCENT AGED 16+ UNEMPLOYED  \\\n",
       "0                               23.6                          8.7   \n",
       "1                               17.2                          8.8   \n",
       "2                               24.0                          8.9   \n",
       "..                               ...                          ...   \n",
       "74                              13.2                         15.0   \n",
       "75                              15.4                          7.1   \n",
       "76                              18.2                          9.2   \n",
       "\n",
       "    PERCENT AGED 25+ WITHOUT HIGH SCHOOL DIPLOMA  \\\n",
       "0                                           18.2   \n",
       "1                                           20.8   \n",
       "2                                           11.8   \n",
       "..                                           ...   \n",
       "74                                          10.8   \n",
       "75                                          10.9   \n",
       "76                                           9.7   \n",
       "\n",
       "    PERCENT AGED UNDER 18 OR OVER 64  PER CAPITA INCOME   HARDSHIP INDEX  \\\n",
       "0                               27.5               23939              39   \n",
       "1                               38.5               23040              46   \n",
       "2                               22.2               35787              20   \n",
       "..                               ...                 ...             ...   \n",
       "74                              40.3               27149              30   \n",
       "75                              30.3               25828              24   \n",
       "76                              23.8               33385              19   \n",
       "\n",
       "    Crime Count  \n",
       "0          3526  \n",
       "1          3063  \n",
       "2          3592  \n",
       "..          ...  \n",
       "74         2055  \n",
       "75         1623  \n",
       "76         2213  \n",
       "\n",
       "[77 rows x 10 columns]"
      ]
     },
     "execution_count": 57,
     "metadata": {},
     "output_type": "execute_result"
    }
   ],
   "source": [
    "community_area_crime = pd.DataFrame({'Crime Count': community_crime_count})\n",
    "se_crime = se.merge(community_area_crime, left_on='Community Area Number', right_index=True)\n",
    "se_crime"
   ]
  },
  {
   "cell_type": "code",
   "execution_count": 75,
   "metadata": {
    "collapsed": false
   },
   "outputs": [
    {
     "data": {
      "text/plain": [
       "<matplotlib.axes._subplots.AxesSubplot at 0xd312030>"
      ]
     },
     "execution_count": 75,
     "metadata": {},
     "output_type": "execute_result"
    },
    {
     "data": {
      "image/png": "[encoded data removed]",
      "text/plain": [
       "<matplotlib.figure.Figure at 0xcf64cd0>"
      ]
     },
     "metadata": {},
     "output_type": "display_data"
    }
   ],
   "source": [
    "se_crime.plot(kind='scatter', x='PER CAPITA INCOME ', y='Crime Count')"
   ]
  },
  {
   "cell_type": "code",
   "execution_count": 80,
   "metadata": {
    "collapsed": false
   },
   "outputs": [],
   "source": [
    "#There isn't a clear relationship between total crime counts and per capita income."
   ]
  },
  {
   "cell_type": "markdown",
   "metadata": {},
   "source": [
    "Question 2"
   ]
  },
  {
   "cell_type": "code",
   "execution_count": 164,
   "metadata": {
    "collapsed": true
   },
   "outputs": [],
   "source": [
    "population=pd.read_csv('population.csv') \n",
    "tracts=pd.read_csv('tracts.csv')"
   ]
  },
  {
   "cell_type": "markdown",
   "metadata": {},
   "source": [
    "(a) Join these together using the fact that the last six digits of the tract id in the mapping data correspond to the first six digits of the block id. However, the data portal has a bug: if the block starts with a zero, that digit is missing!"
   ]
  },
  {
   "cell_type": "code",
   "execution_count": 165,
   "metadata": {
    "collapsed": false
   },
   "outputs": [
    {
     "data": {
      "text/html": [
       "<div>\n",
       "<table border=\"1\" class=\"dataframe\">\n",
       "  <thead>\n",
       "    <tr style=\"text-align: right;\">\n",
       "      <th></th>\n",
       "      <th>CENSUS BLOCK</th>\n",
       "      <th>TOTAL POPULATION</th>\n",
       "    </tr>\n",
       "  </thead>\n",
       "  <tbody>\n",
       "    <tr>\n",
       "      <th>0</th>\n",
       "      <td>31000</td>\n",
       "      <td>104</td>\n",
       "    </tr>\n",
       "    <tr>\n",
       "      <th>1</th>\n",
       "      <td>31000</td>\n",
       "      <td>46</td>\n",
       "    </tr>\n",
       "    <tr>\n",
       "      <th>2</th>\n",
       "      <td>31000</td>\n",
       "      <td>40</td>\n",
       "    </tr>\n",
       "    <tr>\n",
       "      <th>...</th>\n",
       "      <td>...</td>\n",
       "      <td>...</td>\n",
       "    </tr>\n",
       "    <tr>\n",
       "      <th>46288</th>\n",
       "      <td>841900</td>\n",
       "      <td>131</td>\n",
       "    </tr>\n",
       "    <tr>\n",
       "      <th>46289</th>\n",
       "      <td>841900</td>\n",
       "      <td>79</td>\n",
       "    </tr>\n",
       "    <tr>\n",
       "      <th>46290</th>\n",
       "      <td>841900</td>\n",
       "      <td>20</td>\n",
       "    </tr>\n",
       "  </tbody>\n",
       "</table>\n",
       "<p>46291 rows × 2 columns</p>\n",
       "</div>"
      ],
      "text/plain": [
       "       CENSUS BLOCK  TOTAL POPULATION\n",
       "0             31000               104\n",
       "1             31000                46\n",
       "2             31000                40\n",
       "...             ...               ...\n",
       "46288        841900               131\n",
       "46289        841900                79\n",
       "46290        841900                20\n",
       "\n",
       "[46291 rows x 2 columns]"
      ]
     },
     "execution_count": 165,
     "metadata": {},
     "output_type": "execute_result"
    }
   ],
   "source": [
    "population['CENSUS BLOCK']=population['CENSUS BLOCK']/10000\n",
    "population.astype(int)"
   ]
  },
  {
   "cell_type": "code",
   "execution_count": 168,
   "metadata": {
    "collapsed": false
   },
   "outputs": [
    {
     "data": {
      "text/html": [
       "<div>\n",
       "<table border=\"1\" class=\"dataframe\">\n",
       "  <thead>\n",
       "    <tr style=\"text-align: right;\">\n",
       "      <th></th>\n",
       "      <th>tract_id</th>\n",
       "      <th>community_id</th>\n",
       "    </tr>\n",
       "  </thead>\n",
       "  <tbody>\n",
       "    <tr>\n",
       "      <th>0</th>\n",
       "      <td>842400</td>\n",
       "      <td>44</td>\n",
       "    </tr>\n",
       "    <tr>\n",
       "      <th>1</th>\n",
       "      <td>840300</td>\n",
       "      <td>59</td>\n",
       "    </tr>\n",
       "    <tr>\n",
       "      <th>2</th>\n",
       "      <td>841100</td>\n",
       "      <td>34</td>\n",
       "    </tr>\n",
       "    <tr>\n",
       "      <th>...</th>\n",
       "      <td>...</td>\n",
       "      <td>...</td>\n",
       "    </tr>\n",
       "    <tr>\n",
       "      <th>798</th>\n",
       "      <td>130300</td>\n",
       "      <td>13</td>\n",
       "    </tr>\n",
       "    <tr>\n",
       "      <th>799</th>\n",
       "      <td>292200</td>\n",
       "      <td>29</td>\n",
       "    </tr>\n",
       "    <tr>\n",
       "      <th>800</th>\n",
       "      <td>630900</td>\n",
       "      <td>63</td>\n",
       "    </tr>\n",
       "  </tbody>\n",
       "</table>\n",
       "<p>801 rows × 2 columns</p>\n",
       "</div>"
      ],
      "text/plain": [
       "     tract_id   community_id\n",
       "0      842400             44\n",
       "1      840300             59\n",
       "2      841100             34\n",
       "..        ...            ...\n",
       "798    130300             13\n",
       "799    292200             29\n",
       "800    630900             63\n",
       "\n",
       "[801 rows x 2 columns]"
      ]
     },
     "execution_count": 168,
     "metadata": {},
     "output_type": "execute_result"
    }
   ],
   "source": [
    "tracts['tract_id']=tracts['tract_id']-17031000000\n",
    "tracts"
   ]
  },
  {
   "cell_type": "code",
   "execution_count": 169,
   "metadata": {
    "collapsed": false
   },
   "outputs": [
    {
     "data": {
      "text/html": [
       "<div>\n",
       "<table border=\"1\" class=\"dataframe\">\n",
       "  <thead>\n",
       "    <tr style=\"text-align: right;\">\n",
       "      <th></th>\n",
       "      <th>CENSUS BLOCK</th>\n",
       "      <th>TOTAL POPULATION</th>\n",
       "      <th>tract_id</th>\n",
       "      <th>community_id</th>\n",
       "    </tr>\n",
       "  </thead>\n",
       "  <tbody>\n",
       "    <tr>\n",
       "      <th>0</th>\n",
       "      <td>31000</td>\n",
       "      <td>104</td>\n",
       "      <td>31000</td>\n",
       "      <td>3</td>\n",
       "    </tr>\n",
       "    <tr>\n",
       "      <th>1</th>\n",
       "      <td>31000</td>\n",
       "      <td>46</td>\n",
       "      <td>31000</td>\n",
       "      <td>3</td>\n",
       "    </tr>\n",
       "    <tr>\n",
       "      <th>2</th>\n",
       "      <td>31000</td>\n",
       "      <td>40</td>\n",
       "      <td>31000</td>\n",
       "      <td>3</td>\n",
       "    </tr>\n",
       "    <tr>\n",
       "      <th>...</th>\n",
       "      <td>...</td>\n",
       "      <td>...</td>\n",
       "      <td>...</td>\n",
       "      <td>...</td>\n",
       "    </tr>\n",
       "    <tr>\n",
       "      <th>46258</th>\n",
       "      <td>841800</td>\n",
       "      <td>24</td>\n",
       "      <td>841800</td>\n",
       "      <td>69</td>\n",
       "    </tr>\n",
       "    <tr>\n",
       "      <th>46259</th>\n",
       "      <td>841800</td>\n",
       "      <td>4</td>\n",
       "      <td>841800</td>\n",
       "      <td>69</td>\n",
       "    </tr>\n",
       "    <tr>\n",
       "      <th>46260</th>\n",
       "      <td>841800</td>\n",
       "      <td>29</td>\n",
       "      <td>841800</td>\n",
       "      <td>69</td>\n",
       "    </tr>\n",
       "  </tbody>\n",
       "</table>\n",
       "<p>46261 rows × 4 columns</p>\n",
       "</div>"
      ],
      "text/plain": [
       "       CENSUS BLOCK  TOTAL POPULATION  tract_id   community_id\n",
       "0             31000               104     31000              3\n",
       "1             31000                46     31000              3\n",
       "2             31000                40     31000              3\n",
       "...             ...               ...       ...            ...\n",
       "46258        841800                24    841800             69\n",
       "46259        841800                 4    841800             69\n",
       "46260        841800                29    841800             69\n",
       "\n",
       "[46261 rows x 4 columns]"
      ]
     },
     "execution_count": 169,
     "metadata": {},
     "output_type": "execute_result"
    }
   ],
   "source": [
    "population_tract = population.astype(int).merge(tracts, left_on='CENSUS BLOCK', right_on='tract_id')\n",
    "population_tract"
   ]
  },
  {
   "cell_type": "markdown",
   "metadata": {},
   "source": [
    "(b) Calculate the total population in each Community Area."
   ]
  },
  {
   "cell_type": "code",
   "execution_count": 193,
   "metadata": {
    "collapsed": false
   },
   "outputs": [
    {
     "data": {
      "text/plain": [
       " community_id\n",
       "1     54991\n",
       "2     71942\n",
       "3     56362\n",
       "      ...  \n",
       "75    22544\n",
       "76    12756\n",
       "77    56521\n",
       "Name: TOTAL POPULATION, dtype: int32"
      ]
     },
     "execution_count": 193,
     "metadata": {},
     "output_type": "execute_result"
    }
   ],
   "source": [
    "population_by_community = population_tract.groupby(' community_id')\n",
    "population_community_count = population_by_community['TOTAL POPULATION'].agg('sum')\n",
    "population_community_count"
   ]
  },
  {
   "cell_type": "markdown",
   "metadata": {},
   "source": [
    "Question 3"
   ]
  },
  {
   "cell_type": "markdown",
   "metadata": {},
   "source": [
    "Using your answer to (2), calculate the crime rate (defined as crime count per thousand capita) for the city in 2015. Then reanswer (1a-d) with crime count replaced by crime rate. Summarize your findings in words."
   ]
  },
  {
   "cell_type": "code",
   "execution_count": 205,
   "metadata": {
    "collapsed": false
   },
   "outputs": [
    {
     "data": {
      "text/plain": [
       "Community Area\n",
       "1     0.064120\n",
       "2     0.042576\n",
       "3     0.063731\n",
       "        ...   \n",
       "75    0.091155\n",
       "76    0.127234\n",
       "77    0.039154\n",
       "dtype: float64"
      ]
     },
     "execution_count": 205,
     "metadata": {},
     "output_type": "execute_result"
    }
   ],
   "source": [
    "#a\n",
    "crime_rate=community_crime_count/population_community_count\n",
    "crime_rate"
   ]
  },
  {
   "cell_type": "code",
   "execution_count": 203,
   "metadata": {
    "collapsed": false
   },
   "outputs": [
    {
     "data": {
      "text/plain": [
       "Community Area\n",
       "26    0.322593\n",
       "37    0.290682\n",
       "27    0.256722\n",
       "        ...   \n",
       "74    0.031897\n",
       "12    0.024044\n",
       "9     0.022705\n",
       "dtype: float64"
      ]
     },
     "execution_count": 203,
     "metadata": {},
     "output_type": "execute_result"
    }
   ],
   "source": [
    "#b\n",
    "crime_rate.sort_values(ascending=False)"
   ]
  },
  {
   "cell_type": "code",
   "execution_count": 206,
   "metadata": {
    "collapsed": false
   },
   "outputs": [
    {
     "data": {
      "text/plain": [
       "25    West Garfield Park\n",
       "Name: COMMUNITY AREA NAME, dtype: object"
      ]
     },
     "execution_count": 206,
     "metadata": {},
     "output_type": "execute_result"
    }
   ],
   "source": [
    "crime_rate_max=se[se['Community Area Number']==26]['COMMUNITY AREA NAME']\n",
    "crime_rate_max"
   ]
  },
  {
   "cell_type": "code",
   "execution_count": 261,
   "metadata": {
    "collapsed": false
   },
   "outputs": [
    {
     "data": {
      "text/plain": [
       "8    Edison Park\n",
       "Name: COMMUNITY AREA NAME, dtype: object"
      ]
     },
     "execution_count": 261,
     "metadata": {},
     "output_type": "execute_result"
    }
   ],
   "source": [
    "crime_rate_min=se[se['Community Area Number']==9]['COMMUNITY AREA NAME']\n",
    "crime_rate_min"
   ]
  },
  {
   "cell_type": "code",
   "execution_count": 256,
   "metadata": {
    "collapsed": false
   },
   "outputs": [],
   "source": [
    "#c\n",
    "population_community_countpd = pd.DataFrame({'Population': population_community_count})\n",
    "crimesrate=crimes.merge(population_community_countpd, left_on='Community Area', right_index=True)"
   ]
  },
  {
   "cell_type": "code",
   "execution_count": 255,
   "metadata": {
    "collapsed": false
   },
   "outputs": [
    {
     "data": {
      "text/plain": [
       "Community Area  Day       \n",
       "1               2015-01-01    54991\n",
       "                2015-01-02    54991\n",
       "                2015-01-03    54991\n",
       "                              ...  \n",
       "77              2015-12-29    56521\n",
       "                2015-12-30    56521\n",
       "                2015-12-31    56521\n",
       "Name: Population, dtype: int32"
      ]
     },
     "execution_count": 255,
     "metadata": {},
     "output_type": "execute_result"
    }
   ],
   "source": [
    "crimesrate_by_community_day = crimesrate.groupby(['Community Area', 'Day'])\n",
    "population_by_community_day_count = crimesrate_by_community_day['Population'].agg('mean')\n",
    "population_by_community_day_count"
   ]
  },
  {
   "cell_type": "code",
   "execution_count": 246,
   "metadata": {
    "collapsed": false
   },
   "outputs": [
    {
     "data": {
      "text/plain": [
       "Community Area  Day       \n",
       "1               2015-01-01    13\n",
       "                2015-01-02     5\n",
       "                2015-01-03     7\n",
       "                              ..\n",
       "77              2015-12-29     4\n",
       "                2015-12-30     5\n",
       "                2015-12-31     4\n",
       "Name: ID, dtype: int64"
      ]
     },
     "execution_count": 246,
     "metadata": {},
     "output_type": "execute_result"
    }
   ],
   "source": [
    "crimes_by_community_day_count"
   ]
  },
  {
   "cell_type": "code",
   "execution_count": 254,
   "metadata": {
    "collapsed": false
   },
   "outputs": [
    {
     "data": {
      "text/plain": [
       "Community Area  Day       \n",
       "1               2015-01-01    0.000236\n",
       "                2015-01-02    0.000091\n",
       "                2015-01-03    0.000127\n",
       "                                ...   \n",
       "77              2015-12-29    0.000071\n",
       "                2015-12-30    0.000088\n",
       "                2015-12-31    0.000071\n",
       "dtype: float64"
      ]
     },
     "execution_count": 254,
     "metadata": {},
     "output_type": "execute_result"
    }
   ],
   "source": [
    "crimesrate_final=crimes_by_community_day_count/population_by_community_day_count\n",
    "crimesrate_final"
   ]
  },
  {
   "cell_type": "code",
   "execution_count": 258,
   "metadata": {
    "collapsed": false
   },
   "outputs": [
    {
     "data": {
      "text/plain": [
       "<matplotlib.axes._subplots.AxesSubplot at 0x33c9ef0>"
      ]
     },
     "execution_count": 258,
     "metadata": {},
     "output_type": "execute_result"
    },
    {
     "data": {
      "image/png": "[encoded data removed]",
      "text/plain": [
       "<matplotlib.figure.Figure at 0x8f91eb0>"
      ]
     },
     "metadata": {},
     "output_type": "display_data"
    }
   ],
   "source": [
    "community_day_timeseries_new = crimesrate_final.unstack('Community Area')\n",
    "community_day_timeseries_new.fillna(0, inplace=True)\n",
    "community_day_timeseries_new[[1,26,9]].plot()"
   ]
  },
  {
   "cell_type": "code",
   "execution_count": 259,
   "metadata": {
    "collapsed": false
   },
   "outputs": [
    {
     "data": {
      "text/html": [
       "<div>\n",
       "<table border=\"1\" class=\"dataframe\">\n",
       "  <thead>\n",
       "    <tr style=\"text-align: right;\">\n",
       "      <th></th>\n",
       "      <th>Community Area Number</th>\n",
       "      <th>COMMUNITY AREA NAME</th>\n",
       "      <th>PERCENT OF HOUSING CROWDED</th>\n",
       "      <th>PERCENT HOUSEHOLDS BELOW POVERTY</th>\n",
       "      <th>PERCENT AGED 16+ UNEMPLOYED</th>\n",
       "      <th>PERCENT AGED 25+ WITHOUT HIGH SCHOOL DIPLOMA</th>\n",
       "      <th>PERCENT AGED UNDER 18 OR OVER 64</th>\n",
       "      <th>PER CAPITA INCOME</th>\n",
       "      <th>HARDSHIP INDEX</th>\n",
       "      <th>Crime Rate</th>\n",
       "    </tr>\n",
       "  </thead>\n",
       "  <tbody>\n",
       "    <tr>\n",
       "      <th>0</th>\n",
       "      <td>1</td>\n",
       "      <td>Rogers Park</td>\n",
       "      <td>7.7</td>\n",
       "      <td>23.6</td>\n",
       "      <td>8.7</td>\n",
       "      <td>18.2</td>\n",
       "      <td>27.5</td>\n",
       "      <td>23939</td>\n",
       "      <td>39</td>\n",
       "      <td>0.064120</td>\n",
       "    </tr>\n",
       "    <tr>\n",
       "      <th>1</th>\n",
       "      <td>2</td>\n",
       "      <td>West Ridge</td>\n",
       "      <td>7.8</td>\n",
       "      <td>17.2</td>\n",
       "      <td>8.8</td>\n",
       "      <td>20.8</td>\n",
       "      <td>38.5</td>\n",
       "      <td>23040</td>\n",
       "      <td>46</td>\n",
       "      <td>0.042576</td>\n",
       "    </tr>\n",
       "    <tr>\n",
       "      <th>2</th>\n",
       "      <td>3</td>\n",
       "      <td>Uptown</td>\n",
       "      <td>3.8</td>\n",
       "      <td>24.0</td>\n",
       "      <td>8.9</td>\n",
       "      <td>11.8</td>\n",
       "      <td>22.2</td>\n",
       "      <td>35787</td>\n",
       "      <td>20</td>\n",
       "      <td>0.063731</td>\n",
       "    </tr>\n",
       "    <tr>\n",
       "      <th>...</th>\n",
       "      <td>...</td>\n",
       "      <td>...</td>\n",
       "      <td>...</td>\n",
       "      <td>...</td>\n",
       "      <td>...</td>\n",
       "      <td>...</td>\n",
       "      <td>...</td>\n",
       "      <td>...</td>\n",
       "      <td>...</td>\n",
       "      <td>...</td>\n",
       "    </tr>\n",
       "    <tr>\n",
       "      <th>74</th>\n",
       "      <td>75</td>\n",
       "      <td>Morgan Park</td>\n",
       "      <td>0.8</td>\n",
       "      <td>13.2</td>\n",
       "      <td>15.0</td>\n",
       "      <td>10.8</td>\n",
       "      <td>40.3</td>\n",
       "      <td>27149</td>\n",
       "      <td>30</td>\n",
       "      <td>0.091155</td>\n",
       "    </tr>\n",
       "    <tr>\n",
       "      <th>75</th>\n",
       "      <td>76</td>\n",
       "      <td>O'Hare</td>\n",
       "      <td>3.6</td>\n",
       "      <td>15.4</td>\n",
       "      <td>7.1</td>\n",
       "      <td>10.9</td>\n",
       "      <td>30.3</td>\n",
       "      <td>25828</td>\n",
       "      <td>24</td>\n",
       "      <td>0.127234</td>\n",
       "    </tr>\n",
       "    <tr>\n",
       "      <th>76</th>\n",
       "      <td>77</td>\n",
       "      <td>Edgewater</td>\n",
       "      <td>4.1</td>\n",
       "      <td>18.2</td>\n",
       "      <td>9.2</td>\n",
       "      <td>9.7</td>\n",
       "      <td>23.8</td>\n",
       "      <td>33385</td>\n",
       "      <td>19</td>\n",
       "      <td>0.039154</td>\n",
       "    </tr>\n",
       "  </tbody>\n",
       "</table>\n",
       "<p>77 rows × 10 columns</p>\n",
       "</div>"
      ],
      "text/plain": [
       "    Community Area Number COMMUNITY AREA NAME  PERCENT OF HOUSING CROWDED  \\\n",
       "0                       1         Rogers Park                         7.7   \n",
       "1                       2          West Ridge                         7.8   \n",
       "2                       3              Uptown                         3.8   \n",
       "..                    ...                 ...                         ...   \n",
       "74                     75         Morgan Park                         0.8   \n",
       "75                     76              O'Hare                         3.6   \n",
       "76                     77           Edgewater                         4.1   \n",
       "\n",
       "    PERCENT HOUSEHOLDS BELOW POVERTY  PERCENT AGED 16+ UNEMPLOYED  \\\n",
       "0                               23.6                          8.7   \n",
       "1                               17.2                          8.8   \n",
       "2                               24.0                          8.9   \n",
       "..                               ...                          ...   \n",
       "74                              13.2                         15.0   \n",
       "75                              15.4                          7.1   \n",
       "76                              18.2                          9.2   \n",
       "\n",
       "    PERCENT AGED 25+ WITHOUT HIGH SCHOOL DIPLOMA  \\\n",
       "0                                           18.2   \n",
       "1                                           20.8   \n",
       "2                                           11.8   \n",
       "..                                           ...   \n",
       "74                                          10.8   \n",
       "75                                          10.9   \n",
       "76                                           9.7   \n",
       "\n",
       "    PERCENT AGED UNDER 18 OR OVER 64  PER CAPITA INCOME   HARDSHIP INDEX  \\\n",
       "0                               27.5               23939              39   \n",
       "1                               38.5               23040              46   \n",
       "2                               22.2               35787              20   \n",
       "..                               ...                 ...             ...   \n",
       "74                              40.3               27149              30   \n",
       "75                              30.3               25828              24   \n",
       "76                              23.8               33385              19   \n",
       "\n",
       "    Crime Rate  \n",
       "0     0.064120  \n",
       "1     0.042576  \n",
       "2     0.063731  \n",
       "..         ...  \n",
       "74    0.091155  \n",
       "75    0.127234  \n",
       "76    0.039154  \n",
       "\n",
       "[77 rows x 10 columns]"
      ]
     },
     "execution_count": 259,
     "metadata": {},
     "output_type": "execute_result"
    }
   ],
   "source": [
    "#d\n",
    "community_area_crime_new = pd.DataFrame({'Crime Rate': crime_rate})\n",
    "se_crime = se.merge(community_area_crime_new, left_on='Community Area Number', right_index=True)\n",
    "se_crime"
   ]
  },
  {
   "cell_type": "code",
   "execution_count": 260,
   "metadata": {
    "collapsed": false
   },
   "outputs": [
    {
     "data": {
      "text/plain": [
       "<matplotlib.axes._subplots.AxesSubplot at 0xd11fc50>"
      ]
     },
     "execution_count": 260,
     "metadata": {},
     "output_type": "execute_result"
    },
    {
     "data": {
      "image/png": "[encoded data removed]",
      "text/plain": [
       "<matplotlib.figure.Figure at 0x8446f30>"
      ]
     },
     "metadata": {},
     "output_type": "display_data"
    }
   ],
   "source": [
    "se_crime.plot(kind='scatter', x='PER CAPITA INCOME ', y='Crime Rate')"
   ]
  },
  {
   "cell_type": "code",
   "execution_count": null,
   "metadata": {
    "collapsed": true
   },
   "outputs": [],
   "source": [
    "#Comments: by using the concept \"crime rate\" instead of \"crime counts\", we take into the fact that different community\n",
    "#areas have different population. And this help us to better understand the security of an area. For instance, Austin\n",
    "#has the biggest number of total crimes, but in terms of crime rate West Garfield ranks first. Meanwhile we can observe\n",
    "#that there is a negative correlation between the Crime Rate and Per Capita Income, which is not present previously. And\n",
    "#this again suggests the importance of good measurement."
   ]
  },
  {
   "cell_type": "markdown",
   "metadata": {},
   "source": [
    "Question 4"
   ]
  },
  {
   "cell_type": "code",
   "execution_count": 389,
   "metadata": {
    "collapsed": true
   },
   "outputs": [],
   "source": [
    "police = pd.read_csv('police.csv')"
   ]
  },
  {
   "cell_type": "markdown",
   "metadata": {},
   "source": [
    "(a) Extract the latitudes and longitudes of the police stations (found in the LOCATION column) as floats into their own columns called 'Station Latitude' and 'Station Longitude', respectively."
   ]
  },
  {
   "cell_type": "code",
   "execution_count": 390,
   "metadata": {
    "collapsed": false
   },
   "outputs": [
    {
     "data": {
      "text/html": [
       "<div>\n",
       "<table border=\"1\" class=\"dataframe\">\n",
       "  <thead>\n",
       "    <tr style=\"text-align: right;\">\n",
       "      <th></th>\n",
       "      <th>DISTRICT</th>\n",
       "      <th>ADDRESS</th>\n",
       "      <th>CITY</th>\n",
       "      <th>STATE</th>\n",
       "      <th>ZIP</th>\n",
       "      <th>WEBSITE</th>\n",
       "      <th>PHONE</th>\n",
       "      <th>FAX</th>\n",
       "      <th>TTY</th>\n",
       "      <th>LOCATION</th>\n",
       "      <th>Station Latitude</th>\n",
       "      <th>Station Longitude</th>\n",
       "    </tr>\n",
       "  </thead>\n",
       "  <tbody>\n",
       "    <tr>\n",
       "      <th>0</th>\n",
       "      <td>Headquarters</td>\n",
       "      <td>3510 S Michigan Ave</td>\n",
       "      <td>Chicago</td>\n",
       "      <td>IL</td>\n",
       "      <td>60653</td>\n",
       "      <td>https://portal.chicagopolice.org/portal/page/p...</td>\n",
       "      <td>NaN</td>\n",
       "      <td>NaN</td>\n",
       "      <td>NaN</td>\n",
       "      <td>3510 S Michigan Ave Chicago, IL 60653 (41.8308...</td>\n",
       "      <td>41.8308</td>\n",
       "      <td>-87.6233</td>\n",
       "    </tr>\n",
       "    <tr>\n",
       "      <th>1</th>\n",
       "      <td>1</td>\n",
       "      <td>1718 S State St</td>\n",
       "      <td>Chicago</td>\n",
       "      <td>IL</td>\n",
       "      <td>60616</td>\n",
       "      <td>https://portal.chicagopolice.org/portal/page/p...</td>\n",
       "      <td>312-745-4290</td>\n",
       "      <td>312-745-3694</td>\n",
       "      <td>312-745-3693</td>\n",
       "      <td>1718 State St\\nChicago, IL 60616\\n(41.85882087...</td>\n",
       "      <td>41.8588</td>\n",
       "      <td>-87.6273</td>\n",
       "    </tr>\n",
       "    <tr>\n",
       "      <th>2</th>\n",
       "      <td>2</td>\n",
       "      <td>5101 S Wentworth Ave</td>\n",
       "      <td>Chicago</td>\n",
       "      <td>IL</td>\n",
       "      <td>60609</td>\n",
       "      <td>https://portal.chicagopolice.org/portal/page/p...</td>\n",
       "      <td>312-747-8366</td>\n",
       "      <td>312-747-5396</td>\n",
       "      <td>312-747-6656</td>\n",
       "      <td>5101 Wentworth Ave\\nChicago, IL 60609\\n(41.801...</td>\n",
       "      <td>41.8017</td>\n",
       "      <td>-87.6306</td>\n",
       "    </tr>\n",
       "    <tr>\n",
       "      <th>...</th>\n",
       "      <td>...</td>\n",
       "      <td>...</td>\n",
       "      <td>...</td>\n",
       "      <td>...</td>\n",
       "      <td>...</td>\n",
       "      <td>...</td>\n",
       "      <td>...</td>\n",
       "      <td>...</td>\n",
       "      <td>...</td>\n",
       "      <td>...</td>\n",
       "      <td>...</td>\n",
       "      <td>...</td>\n",
       "    </tr>\n",
       "    <tr>\n",
       "      <th>20</th>\n",
       "      <td>22</td>\n",
       "      <td>1900 W Monterey Ave</td>\n",
       "      <td>Chicago</td>\n",
       "      <td>IL</td>\n",
       "      <td>60643</td>\n",
       "      <td>https://portal.chicagopolice.org/portal/page/p...</td>\n",
       "      <td>312-745-0710</td>\n",
       "      <td>312-745-0814</td>\n",
       "      <td>312-745-0569</td>\n",
       "      <td>1900 Monterey Ave\\nChicago, IL 60643\\n(41.6913...</td>\n",
       "      <td>41.6913</td>\n",
       "      <td>-87.6685</td>\n",
       "    </tr>\n",
       "    <tr>\n",
       "      <th>21</th>\n",
       "      <td>24</td>\n",
       "      <td>6464 N Clark St</td>\n",
       "      <td>Chicago</td>\n",
       "      <td>IL</td>\n",
       "      <td>60626</td>\n",
       "      <td>https://portal.chicagopolice.org/portal/page/p...</td>\n",
       "      <td>312-744-5907</td>\n",
       "      <td>312-744-6928</td>\n",
       "      <td>312-744-7603</td>\n",
       "      <td>6464 Clark St\\nChicago, IL 60626\\n(41.99944797...</td>\n",
       "      <td>41.9994</td>\n",
       "      <td>-87.6711</td>\n",
       "    </tr>\n",
       "    <tr>\n",
       "      <th>22</th>\n",
       "      <td>25</td>\n",
       "      <td>5555 W Grand Ave</td>\n",
       "      <td>Chicago</td>\n",
       "      <td>IL</td>\n",
       "      <td>60639</td>\n",
       "      <td>https://portal.chicagopolice.org/portal/page/p...</td>\n",
       "      <td>312-746-8605</td>\n",
       "      <td>312-746-4353</td>\n",
       "      <td>312-746-8383</td>\n",
       "      <td>5555 Grand Ave\\nChicago, IL 60639\\n(41.9184858...</td>\n",
       "      <td>41.9184</td>\n",
       "      <td>-87.7646</td>\n",
       "    </tr>\n",
       "  </tbody>\n",
       "</table>\n",
       "<p>23 rows × 12 columns</p>\n",
       "</div>"
      ],
      "text/plain": [
       "        DISTRICT               ADDRESS     CITY STATE    ZIP  \\\n",
       "0   Headquarters   3510 S Michigan Ave  Chicago    IL  60653   \n",
       "1              1       1718 S State St  Chicago    IL  60616   \n",
       "2              2  5101 S Wentworth Ave  Chicago    IL  60609   \n",
       "..           ...                   ...      ...   ...    ...   \n",
       "20            22   1900 W Monterey Ave  Chicago    IL  60643   \n",
       "21            24       6464 N Clark St  Chicago    IL  60626   \n",
       "22            25      5555 W Grand Ave  Chicago    IL  60639   \n",
       "\n",
       "                                              WEBSITE         PHONE  \\\n",
       "0   https://portal.chicagopolice.org/portal/page/p...           NaN   \n",
       "1   https://portal.chicagopolice.org/portal/page/p...  312-745-4290   \n",
       "2   https://portal.chicagopolice.org/portal/page/p...  312-747-8366   \n",
       "..                                                ...           ...   \n",
       "20  https://portal.chicagopolice.org/portal/page/p...  312-745-0710   \n",
       "21  https://portal.chicagopolice.org/portal/page/p...  312-744-5907   \n",
       "22  https://portal.chicagopolice.org/portal/page/p...  312-746-8605   \n",
       "\n",
       "             FAX           TTY  \\\n",
       "0            NaN           NaN   \n",
       "1   312-745-3694  312-745-3693   \n",
       "2   312-747-5396  312-747-6656   \n",
       "..           ...           ...   \n",
       "20  312-745-0814  312-745-0569   \n",
       "21  312-744-6928  312-744-7603   \n",
       "22  312-746-4353  312-746-8383   \n",
       "\n",
       "                                             LOCATION Station Latitude  \\\n",
       "0   3510 S Michigan Ave Chicago, IL 60653 (41.8308...          41.8308   \n",
       "1   1718 State St\\nChicago, IL 60616\\n(41.85882087...          41.8588   \n",
       "2   5101 Wentworth Ave\\nChicago, IL 60609\\n(41.801...          41.8017   \n",
       "..                                                ...              ...   \n",
       "20  1900 Monterey Ave\\nChicago, IL 60643\\n(41.6913...          41.6913   \n",
       "21  6464 Clark St\\nChicago, IL 60626\\n(41.99944797...          41.9994   \n",
       "22  5555 Grand Ave\\nChicago, IL 60639\\n(41.9184858...          41.9184   \n",
       "\n",
       "   Station Longitude  \n",
       "0           -87.6233  \n",
       "1           -87.6273  \n",
       "2           -87.6306  \n",
       "..               ...  \n",
       "20          -87.6685  \n",
       "21          -87.6711  \n",
       "22          -87.7646  \n",
       "\n",
       "[23 rows x 12 columns]"
      ]
     },
     "execution_count": 390,
     "metadata": {},
     "output_type": "execute_result"
    }
   ],
   "source": [
    "import re\n",
    "#keep four digits\n",
    "police['Station Latitude'] = police['LOCATION'].str.extract('(\\d\\d\\.\\d\\d\\d\\d)')\n",
    "police['Station Longitude'] = police['LOCATION'].str.extract('(-\\d\\d\\.\\d\\d\\d\\d)')\n",
    "police"
   ]
  },
  {
   "cell_type": "markdown",
   "metadata": {},
   "source": [
    "(b) Join the crime data with the stations on police district. Hint: the station district is a text field (because one of them is 'Headquarters') so you'll need to convert the crime district to the same."
   ]
  },
  {
   "cell_type": "code",
   "execution_count": 391,
   "metadata": {
    "collapsed": false
   },
   "outputs": [],
   "source": [
    "crimes['Community Area'] = crimes['Community Area'].replace(35,'Headquarters')"
   ]
  },
  {
   "cell_type": "code",
   "execution_count": 392,
   "metadata": {
    "collapsed": false
   },
   "outputs": [],
   "source": [
    "crimes['Community Area']=crimes['Community Area'].astype(str)"
   ]
  },
  {
   "cell_type": "code",
   "execution_count": 393,
   "metadata": {
    "collapsed": false
   },
   "outputs": [],
   "source": [
    "police['DISTRICT']=police['DISTRICT'].astype(str)"
   ]
  },
  {
   "cell_type": "code",
   "execution_count": 444,
   "metadata": {
    "collapsed": false
   },
   "outputs": [],
   "source": [
    "crimepolice=crimes.merge(police, left_on='Community Area', right_on='DISTRICT')"
   ]
  },
  {
   "cell_type": "code",
   "execution_count": 435,
   "metadata": {
    "collapsed": false
   },
   "outputs": [
    {
     "data": {
      "text/html": [
       "<div>\n",
       "<table border=\"1\" class=\"dataframe\">\n",
       "  <thead>\n",
       "    <tr style=\"text-align: right;\">\n",
       "      <th></th>\n",
       "      <th>ID</th>\n",
       "      <th>Case Number</th>\n",
       "      <th>Date</th>\n",
       "      <th>Block</th>\n",
       "      <th>IUCR</th>\n",
       "      <th>Primary Type</th>\n",
       "      <th>Description</th>\n",
       "      <th>Location Description</th>\n",
       "      <th>Arrest</th>\n",
       "      <th>Domestic</th>\n",
       "      <th>...</th>\n",
       "      <th>CITY</th>\n",
       "      <th>STATE</th>\n",
       "      <th>ZIP</th>\n",
       "      <th>WEBSITE</th>\n",
       "      <th>PHONE</th>\n",
       "      <th>FAX</th>\n",
       "      <th>TTY</th>\n",
       "      <th>LOCATION</th>\n",
       "      <th>Station Latitude</th>\n",
       "      <th>Station Longitude</th>\n",
       "    </tr>\n",
       "  </thead>\n",
       "  <tbody>\n",
       "    <tr>\n",
       "      <th>0</th>\n",
       "      <td>10364740</td>\n",
       "      <td>HZ100010</td>\n",
       "      <td>2015-12-31 23:50:00</td>\n",
       "      <td>024XX W FARGO AVE</td>\n",
       "      <td>0820</td>\n",
       "      <td>THEFT</td>\n",
       "      <td>$500 AND UNDER</td>\n",
       "      <td>APARTMENT</td>\n",
       "      <td>False</td>\n",
       "      <td>False</td>\n",
       "      <td>...</td>\n",
       "      <td>Chicago</td>\n",
       "      <td>IL</td>\n",
       "      <td>60609</td>\n",
       "      <td>https://portal.chicagopolice.org/portal/page/p...</td>\n",
       "      <td>312-747-8366</td>\n",
       "      <td>312-747-5396</td>\n",
       "      <td>312-747-6656</td>\n",
       "      <td>5101 Wentworth Ave\\nChicago, IL 60609\\n(41.801...</td>\n",
       "      <td>41.8017</td>\n",
       "      <td>-87.6306</td>\n",
       "    </tr>\n",
       "    <tr>\n",
       "      <th>1</th>\n",
       "      <td>10364975</td>\n",
       "      <td>HZ100442</td>\n",
       "      <td>2015-12-31 20:30:00</td>\n",
       "      <td>066XX N TALMAN AVE</td>\n",
       "      <td>1320</td>\n",
       "      <td>CRIMINAL DAMAGE</td>\n",
       "      <td>TO VEHICLE</td>\n",
       "      <td>OTHER</td>\n",
       "      <td>True</td>\n",
       "      <td>False</td>\n",
       "      <td>...</td>\n",
       "      <td>Chicago</td>\n",
       "      <td>IL</td>\n",
       "      <td>60609</td>\n",
       "      <td>https://portal.chicagopolice.org/portal/page/p...</td>\n",
       "      <td>312-747-8366</td>\n",
       "      <td>312-747-5396</td>\n",
       "      <td>312-747-6656</td>\n",
       "      <td>5101 Wentworth Ave\\nChicago, IL 60609\\n(41.801...</td>\n",
       "      <td>41.8017</td>\n",
       "      <td>-87.6306</td>\n",
       "    </tr>\n",
       "    <tr>\n",
       "      <th>2</th>\n",
       "      <td>10364431</td>\n",
       "      <td>HY556315</td>\n",
       "      <td>2015-12-31 14:02:00</td>\n",
       "      <td>024XX W DEVON AVE</td>\n",
       "      <td>0313</td>\n",
       "      <td>ROBBERY</td>\n",
       "      <td>ARMED: OTHER DANGEROUS WEAPON</td>\n",
       "      <td>ALLEY</td>\n",
       "      <td>True</td>\n",
       "      <td>False</td>\n",
       "      <td>...</td>\n",
       "      <td>Chicago</td>\n",
       "      <td>IL</td>\n",
       "      <td>60609</td>\n",
       "      <td>https://portal.chicagopolice.org/portal/page/p...</td>\n",
       "      <td>312-747-8366</td>\n",
       "      <td>312-747-5396</td>\n",
       "      <td>312-747-6656</td>\n",
       "      <td>5101 Wentworth Ave\\nChicago, IL 60609\\n(41.801...</td>\n",
       "      <td>41.8017</td>\n",
       "      <td>-87.6306</td>\n",
       "    </tr>\n",
       "    <tr>\n",
       "      <th>...</th>\n",
       "      <td>...</td>\n",
       "      <td>...</td>\n",
       "      <td>...</td>\n",
       "      <td>...</td>\n",
       "      <td>...</td>\n",
       "      <td>...</td>\n",
       "      <td>...</td>\n",
       "      <td>...</td>\n",
       "      <td>...</td>\n",
       "      <td>...</td>\n",
       "      <td>...</td>\n",
       "      <td>...</td>\n",
       "      <td>...</td>\n",
       "      <td>...</td>\n",
       "      <td>...</td>\n",
       "      <td>...</td>\n",
       "      <td>...</td>\n",
       "      <td>...</td>\n",
       "      <td>...</td>\n",
       "      <td>...</td>\n",
       "      <td>...</td>\n",
       "    </tr>\n",
       "    <tr>\n",
       "      <th>83440</th>\n",
       "      <td>9914648</td>\n",
       "      <td>HY103906</td>\n",
       "      <td>2015-01-04 15:15:00</td>\n",
       "      <td>076XX W IBSEN ST</td>\n",
       "      <td>0486</td>\n",
       "      <td>BATTERY</td>\n",
       "      <td>DOMESTIC BATTERY SIMPLE</td>\n",
       "      <td>RESIDENCE</td>\n",
       "      <td>False</td>\n",
       "      <td>True</td>\n",
       "      <td>...</td>\n",
       "      <td>Chicago</td>\n",
       "      <td>IL</td>\n",
       "      <td>60608</td>\n",
       "      <td>https://portal.chicagopolice.org/portal/page/p...</td>\n",
       "      <td>312-747-8227</td>\n",
       "      <td>312-747-5329</td>\n",
       "      <td>312-747-9172</td>\n",
       "      <td>3120 Halsted St\\nChicago, IL 60608\\n(41.837503...</td>\n",
       "      <td>41.8375</td>\n",
       "      <td>-87.6466</td>\n",
       "    </tr>\n",
       "    <tr>\n",
       "      <th>83441</th>\n",
       "      <td>9914737</td>\n",
       "      <td>HY103235</td>\n",
       "      <td>2015-01-03 20:20:00</td>\n",
       "      <td>065XX N OKETO AVE</td>\n",
       "      <td>0460</td>\n",
       "      <td>BATTERY</td>\n",
       "      <td>SIMPLE</td>\n",
       "      <td>STREET</td>\n",
       "      <td>False</td>\n",
       "      <td>False</td>\n",
       "      <td>...</td>\n",
       "      <td>Chicago</td>\n",
       "      <td>IL</td>\n",
       "      <td>60608</td>\n",
       "      <td>https://portal.chicagopolice.org/portal/page/p...</td>\n",
       "      <td>312-747-8227</td>\n",
       "      <td>312-747-5329</td>\n",
       "      <td>312-747-9172</td>\n",
       "      <td>3120 Halsted St\\nChicago, IL 60608\\n(41.837503...</td>\n",
       "      <td>41.8375</td>\n",
       "      <td>-87.6466</td>\n",
       "    </tr>\n",
       "    <tr>\n",
       "      <th>83442</th>\n",
       "      <td>10048710</td>\n",
       "      <td>HY238002</td>\n",
       "      <td>2015-01-01 10:00:00</td>\n",
       "      <td>074XX N ORIOLE AVE</td>\n",
       "      <td>2825</td>\n",
       "      <td>OTHER OFFENSE</td>\n",
       "      <td>HARASSMENT BY TELEPHONE</td>\n",
       "      <td>RESIDENCE</td>\n",
       "      <td>False</td>\n",
       "      <td>False</td>\n",
       "      <td>...</td>\n",
       "      <td>Chicago</td>\n",
       "      <td>IL</td>\n",
       "      <td>60608</td>\n",
       "      <td>https://portal.chicagopolice.org/portal/page/p...</td>\n",
       "      <td>312-747-8227</td>\n",
       "      <td>312-747-5329</td>\n",
       "      <td>312-747-9172</td>\n",
       "      <td>3120 Halsted St\\nChicago, IL 60608\\n(41.837503...</td>\n",
       "      <td>41.8375</td>\n",
       "      <td>-87.6466</td>\n",
       "    </tr>\n",
       "  </tbody>\n",
       "</table>\n",
       "<p>83443 rows × 34 columns</p>\n",
       "</div>"
      ],
      "text/plain": [
       "             ID Case Number                Date               Block  IUCR  \\\n",
       "0      10364740    HZ100010 2015-12-31 23:50:00   024XX W FARGO AVE  0820   \n",
       "1      10364975    HZ100442 2015-12-31 20:30:00  066XX N TALMAN AVE  1320   \n",
       "2      10364431    HY556315 2015-12-31 14:02:00   024XX W DEVON AVE  0313   \n",
       "...         ...         ...                 ...                 ...   ...   \n",
       "83440   9914648    HY103906 2015-01-04 15:15:00    076XX W IBSEN ST  0486   \n",
       "83441   9914737    HY103235 2015-01-03 20:20:00   065XX N OKETO AVE  0460   \n",
       "83442  10048710    HY238002 2015-01-01 10:00:00  074XX N ORIOLE AVE  2825   \n",
       "\n",
       "          Primary Type                    Description Location Description  \\\n",
       "0                THEFT                 $500 AND UNDER            APARTMENT   \n",
       "1      CRIMINAL DAMAGE                     TO VEHICLE                OTHER   \n",
       "2              ROBBERY  ARMED: OTHER DANGEROUS WEAPON                ALLEY   \n",
       "...                ...                            ...                  ...   \n",
       "83440          BATTERY        DOMESTIC BATTERY SIMPLE            RESIDENCE   \n",
       "83441          BATTERY                         SIMPLE               STREET   \n",
       "83442    OTHER OFFENSE        HARASSMENT BY TELEPHONE            RESIDENCE   \n",
       "\n",
       "      Arrest Domestic        ...             CITY  STATE    ZIP  \\\n",
       "0      False    False        ...          Chicago     IL  60609   \n",
       "1       True    False        ...          Chicago     IL  60609   \n",
       "2       True    False        ...          Chicago     IL  60609   \n",
       "...      ...      ...        ...              ...    ...    ...   \n",
       "83440  False     True        ...          Chicago     IL  60608   \n",
       "83441  False    False        ...          Chicago     IL  60608   \n",
       "83442  False    False        ...          Chicago     IL  60608   \n",
       "\n",
       "                                                 WEBSITE         PHONE  \\\n",
       "0      https://portal.chicagopolice.org/portal/page/p...  312-747-8366   \n",
       "1      https://portal.chicagopolice.org/portal/page/p...  312-747-8366   \n",
       "2      https://portal.chicagopolice.org/portal/page/p...  312-747-8366   \n",
       "...                                                  ...           ...   \n",
       "83440  https://portal.chicagopolice.org/portal/page/p...  312-747-8227   \n",
       "83441  https://portal.chicagopolice.org/portal/page/p...  312-747-8227   \n",
       "83442  https://portal.chicagopolice.org/portal/page/p...  312-747-8227   \n",
       "\n",
       "                FAX           TTY  \\\n",
       "0      312-747-5396  312-747-6656   \n",
       "1      312-747-5396  312-747-6656   \n",
       "2      312-747-5396  312-747-6656   \n",
       "...             ...           ...   \n",
       "83440  312-747-5329  312-747-9172   \n",
       "83441  312-747-5329  312-747-9172   \n",
       "83442  312-747-5329  312-747-9172   \n",
       "\n",
       "                                                LOCATION Station Latitude  \\\n",
       "0      5101 Wentworth Ave\\nChicago, IL 60609\\n(41.801...          41.8017   \n",
       "1      5101 Wentworth Ave\\nChicago, IL 60609\\n(41.801...          41.8017   \n",
       "2      5101 Wentworth Ave\\nChicago, IL 60609\\n(41.801...          41.8017   \n",
       "...                                                  ...              ...   \n",
       "83440  3120 Halsted St\\nChicago, IL 60608\\n(41.837503...          41.8375   \n",
       "83441  3120 Halsted St\\nChicago, IL 60608\\n(41.837503...          41.8375   \n",
       "83442  3120 Halsted St\\nChicago, IL 60608\\n(41.837503...          41.8375   \n",
       "\n",
       "       Station Longitude  \n",
       "0               -87.6306  \n",
       "1               -87.6306  \n",
       "2               -87.6306  \n",
       "...                  ...  \n",
       "83440           -87.6466  \n",
       "83441           -87.6466  \n",
       "83442           -87.6466  \n",
       "\n",
       "[83443 rows x 34 columns]"
      ]
     },
     "execution_count": 435,
     "metadata": {},
     "output_type": "execute_result"
    }
   ],
   "source": [
    "crimepolice"
   ]
  },
  {
   "cell_type": "markdown",
   "metadata": {},
   "source": [
    "(c) Define a function which calculates the distance in kilometers between two points (latitude, longitude) using the Pythagorean theorem"
   ]
  },
  {
   "cell_type": "code",
   "execution_count": 445,
   "metadata": {
    "collapsed": false
   },
   "outputs": [],
   "source": [
    "crimepolice['Station Latitude']=crimepolice['Station Latitude'].astype(float)\n",
    "crimepolice['Station Longitude']=crimepolice['Station Longitude'].astype(float)\n",
    "crimepolice['Longitude']=crimepolice['Longitude'].astype(float)\n",
    "crimepolice['Latitude']=crimepolice['Latitude'].astype(float)\n",
    "crimepolice.insert(1,'Distance',1)\n",
    "def distance(n):\n",
    "     for i in range(0,n):\n",
    "        crime_lat_i = crimepolice.iloc[i]['Latitude']\n",
    "        crime_lon_i = crimepolice.iloc[i]['Longitude']\n",
    "        station_lat_i = crimepolice.iloc[i]['Station Latitude']\n",
    "        station_lon_i = crimepolice.iloc[i]['Station Longitude']\n",
    "        d_i=(((crime_lat_i-station_lat_i)**2+(crime_lon_i-station_lon_i)**2)**0.5)*95\n",
    "        crimepolice.iloc[i, crimepolice.columns.get_loc('Distance')] = d_i       "
   ]
  },
  {
   "cell_type": "markdown",
   "metadata": {},
   "source": [
    "(d) Calculate the distance between each crime and its district police station. Hint: If your answer to (c) is of the form "
   ]
  },
  {
   "cell_type": "code",
   "execution_count": 448,
   "metadata": {
    "collapsed": false
   },
   "outputs": [],
   "source": [
    "distance(83442)"
   ]
  },
  {
   "cell_type": "markdown",
   "metadata": {
    "collapsed": false
   },
   "source": [
    "(e) Plot a histogram of crime distances to district police stations. Summarize the relationship in words."
   ]
  },
  {
   "cell_type": "code",
   "execution_count": 453,
   "metadata": {
    "collapsed": false
   },
   "outputs": [
    {
     "data": {
      "text/plain": [
       "<matplotlib.axes._subplots.AxesSubplot at 0x1f27ccf0>"
      ]
     },
     "execution_count": 453,
     "metadata": {},
     "output_type": "execute_result"
    },
    {
     "data": {
      "image/png": "[encoded data removed]",
      "text/plain": [
       "<matplotlib.figure.Figure at 0x1f282950>"
      ]
     },
     "metadata": {},
     "output_type": "display_data"
    }
   ],
   "source": [
    "crimepolice['Distance'].plot(kind='hist')"
   ]
  },
  {
   "cell_type": "code",
   "execution_count": null,
   "metadata": {
    "collapsed": true
   },
   "outputs": [],
   "source": []
  }
 ],
 "metadata": {
  "kernelspec": {
   "display_name": "Python 3",
   "language": "python",
   "name": "python3"
  },
  "language_info": {
   "codemirror_mode": {
    "name": "ipython",
    "version": 3
   },
   "file_extension": ".py",
   "mimetype": "text/x-python",
   "name": "python",
   "nbconvert_exporter": "python",
   "pygments_lexer": "ipython3",
   "version": "3.5.1"
  }
 },
 "nbformat": 4,
 "nbformat_minor": 0
}
